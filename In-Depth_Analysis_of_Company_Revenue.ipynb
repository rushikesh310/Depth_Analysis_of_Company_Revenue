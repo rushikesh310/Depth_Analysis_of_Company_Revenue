{
 "cells": [
  {
   "cell_type": "code",
   "execution_count": 52,
   "id": "3437ce7c",
   "metadata": {},
   "outputs": [],
   "source": [
    "import pandas as pd\n",
    "import matplotlib.pyplot as plt\n",
    "import numpy as np"
   ]
  },
  {
   "cell_type": "code",
   "execution_count": 3,
   "id": "c55debc3",
   "metadata": {},
   "outputs": [],
   "source": [
    "df = pd.read_csv(\"C:\\\\Users\\\\rushikesh\\\\Desktop\\\\Dataset\\\\Financials.csv\")"
   ]
  },
  {
   "cell_type": "code",
   "execution_count": 4,
   "id": "9409c864",
   "metadata": {},
   "outputs": [
    {
     "data": {
      "text/html": [
       "<div>\n",
       "<style scoped>\n",
       "    .dataframe tbody tr th:only-of-type {\n",
       "        vertical-align: middle;\n",
       "    }\n",
       "\n",
       "    .dataframe tbody tr th {\n",
       "        vertical-align: top;\n",
       "    }\n",
       "\n",
       "    .dataframe thead th {\n",
       "        text-align: right;\n",
       "    }\n",
       "</style>\n",
       "<table border=\"1\" class=\"dataframe\">\n",
       "  <thead>\n",
       "    <tr style=\"text-align: right;\">\n",
       "      <th></th>\n",
       "      <th>Segment</th>\n",
       "      <th>Country</th>\n",
       "      <th>Product</th>\n",
       "      <th>Discount Band</th>\n",
       "      <th>Units Sold</th>\n",
       "      <th>Manufacturing Price</th>\n",
       "      <th>Sale Price</th>\n",
       "      <th>Gross Sales</th>\n",
       "      <th>Discounts</th>\n",
       "      <th>Sales</th>\n",
       "      <th>COGS</th>\n",
       "      <th>Profit</th>\n",
       "      <th>Date</th>\n",
       "      <th>Month Number</th>\n",
       "      <th>Month Name</th>\n",
       "      <th>Year</th>\n",
       "    </tr>\n",
       "  </thead>\n",
       "  <tbody>\n",
       "    <tr>\n",
       "      <th>0</th>\n",
       "      <td>Government</td>\n",
       "      <td>Canada</td>\n",
       "      <td>Carretera</td>\n",
       "      <td>None</td>\n",
       "      <td>$1,618.50</td>\n",
       "      <td>$3.00</td>\n",
       "      <td>$20.00</td>\n",
       "      <td>$32,370.00</td>\n",
       "      <td>$-</td>\n",
       "      <td>$32,370.00</td>\n",
       "      <td>$16,185.00</td>\n",
       "      <td>$16,185.00</td>\n",
       "      <td>01/01/2014</td>\n",
       "      <td>1</td>\n",
       "      <td>January</td>\n",
       "      <td>2014</td>\n",
       "    </tr>\n",
       "    <tr>\n",
       "      <th>1</th>\n",
       "      <td>Government</td>\n",
       "      <td>Germany</td>\n",
       "      <td>Carretera</td>\n",
       "      <td>None</td>\n",
       "      <td>$1,321.00</td>\n",
       "      <td>$3.00</td>\n",
       "      <td>$20.00</td>\n",
       "      <td>$26,420.00</td>\n",
       "      <td>$-</td>\n",
       "      <td>$26,420.00</td>\n",
       "      <td>$13,210.00</td>\n",
       "      <td>$13,210.00</td>\n",
       "      <td>01/01/2014</td>\n",
       "      <td>1</td>\n",
       "      <td>January</td>\n",
       "      <td>2014</td>\n",
       "    </tr>\n",
       "    <tr>\n",
       "      <th>2</th>\n",
       "      <td>Midmarket</td>\n",
       "      <td>France</td>\n",
       "      <td>Carretera</td>\n",
       "      <td>None</td>\n",
       "      <td>$2,178.00</td>\n",
       "      <td>$3.00</td>\n",
       "      <td>$15.00</td>\n",
       "      <td>$32,670.00</td>\n",
       "      <td>$-</td>\n",
       "      <td>$32,670.00</td>\n",
       "      <td>$21,780.00</td>\n",
       "      <td>$10,890.00</td>\n",
       "      <td>01/06/2014</td>\n",
       "      <td>6</td>\n",
       "      <td>June</td>\n",
       "      <td>2014</td>\n",
       "    </tr>\n",
       "    <tr>\n",
       "      <th>3</th>\n",
       "      <td>Midmarket</td>\n",
       "      <td>Germany</td>\n",
       "      <td>Carretera</td>\n",
       "      <td>None</td>\n",
       "      <td>$888.00</td>\n",
       "      <td>$3.00</td>\n",
       "      <td>$15.00</td>\n",
       "      <td>$13,320.00</td>\n",
       "      <td>$-</td>\n",
       "      <td>$13,320.00</td>\n",
       "      <td>$8,880.00</td>\n",
       "      <td>$4,440.00</td>\n",
       "      <td>01/06/2014</td>\n",
       "      <td>6</td>\n",
       "      <td>June</td>\n",
       "      <td>2014</td>\n",
       "    </tr>\n",
       "    <tr>\n",
       "      <th>4</th>\n",
       "      <td>Midmarket</td>\n",
       "      <td>Mexico</td>\n",
       "      <td>Carretera</td>\n",
       "      <td>None</td>\n",
       "      <td>$2,470.00</td>\n",
       "      <td>$3.00</td>\n",
       "      <td>$15.00</td>\n",
       "      <td>$37,050.00</td>\n",
       "      <td>$-</td>\n",
       "      <td>$37,050.00</td>\n",
       "      <td>$24,700.00</td>\n",
       "      <td>$12,350.00</td>\n",
       "      <td>01/06/2014</td>\n",
       "      <td>6</td>\n",
       "      <td>June</td>\n",
       "      <td>2014</td>\n",
       "    </tr>\n",
       "  </tbody>\n",
       "</table>\n",
       "</div>"
      ],
      "text/plain": [
       "      Segment  Country     Product   Discount Band   Units Sold   \\\n",
       "0  Government   Canada   Carretera            None    $1,618.50    \n",
       "1  Government  Germany   Carretera            None    $1,321.00    \n",
       "2   Midmarket   France   Carretera            None    $2,178.00    \n",
       "3   Midmarket  Germany   Carretera            None      $888.00    \n",
       "4   Midmarket   Mexico   Carretera            None    $2,470.00    \n",
       "\n",
       "   Manufacturing Price   Sale Price   Gross Sales   Discounts         Sales   \\\n",
       "0                $3.00       $20.00    $32,370.00        $-      $32,370.00    \n",
       "1                $3.00       $20.00    $26,420.00        $-      $26,420.00    \n",
       "2                $3.00       $15.00    $32,670.00        $-      $32,670.00    \n",
       "3                $3.00       $15.00    $13,320.00        $-      $13,320.00    \n",
       "4                $3.00       $15.00    $37,050.00        $-      $37,050.00    \n",
       "\n",
       "          COGS        Profit         Date  Month Number  Month Name   Year  \n",
       "0   $16,185.00    $16,185.00   01/01/2014             1     January   2014  \n",
       "1   $13,210.00    $13,210.00   01/01/2014             1     January   2014  \n",
       "2   $21,780.00    $10,890.00   01/06/2014             6        June   2014  \n",
       "3    $8,880.00     $4,440.00   01/06/2014             6        June   2014  \n",
       "4   $24,700.00    $12,350.00   01/06/2014             6        June   2014  "
      ]
     },
     "execution_count": 4,
     "metadata": {},
     "output_type": "execute_result"
    }
   ],
   "source": [
    "df.head()"
   ]
  },
  {
   "cell_type": "code",
   "execution_count": 5,
   "id": "cfc9abc9",
   "metadata": {},
   "outputs": [
    {
     "data": {
      "text/html": [
       "<div>\n",
       "<style scoped>\n",
       "    .dataframe tbody tr th:only-of-type {\n",
       "        vertical-align: middle;\n",
       "    }\n",
       "\n",
       "    .dataframe tbody tr th {\n",
       "        vertical-align: top;\n",
       "    }\n",
       "\n",
       "    .dataframe thead th {\n",
       "        text-align: right;\n",
       "    }\n",
       "</style>\n",
       "<table border=\"1\" class=\"dataframe\">\n",
       "  <thead>\n",
       "    <tr style=\"text-align: right;\">\n",
       "      <th></th>\n",
       "      <th>Segment</th>\n",
       "      <th>Country</th>\n",
       "      <th>Product</th>\n",
       "      <th>Discount Band</th>\n",
       "      <th>Units Sold</th>\n",
       "      <th>Manufacturing Price</th>\n",
       "      <th>Sale Price</th>\n",
       "      <th>Gross Sales</th>\n",
       "      <th>Discounts</th>\n",
       "      <th>Sales</th>\n",
       "      <th>COGS</th>\n",
       "      <th>Profit</th>\n",
       "      <th>Date</th>\n",
       "      <th>Month Number</th>\n",
       "      <th>Month Name</th>\n",
       "      <th>Year</th>\n",
       "    </tr>\n",
       "  </thead>\n",
       "  <tbody>\n",
       "    <tr>\n",
       "      <th>695</th>\n",
       "      <td>Small Business</td>\n",
       "      <td>France</td>\n",
       "      <td>Amarilla</td>\n",
       "      <td>High</td>\n",
       "      <td>$2,475.00</td>\n",
       "      <td>$260.00</td>\n",
       "      <td>$300.00</td>\n",
       "      <td>$7,42,500.00</td>\n",
       "      <td>$1,11,375.00</td>\n",
       "      <td>$6,31,125.00</td>\n",
       "      <td>$6,18,750.00</td>\n",
       "      <td>$12,375.00</td>\n",
       "      <td>01/03/2014</td>\n",
       "      <td>3</td>\n",
       "      <td>March</td>\n",
       "      <td>2014</td>\n",
       "    </tr>\n",
       "    <tr>\n",
       "      <th>696</th>\n",
       "      <td>Small Business</td>\n",
       "      <td>Mexico</td>\n",
       "      <td>Amarilla</td>\n",
       "      <td>High</td>\n",
       "      <td>$546.00</td>\n",
       "      <td>$260.00</td>\n",
       "      <td>$300.00</td>\n",
       "      <td>$1,63,800.00</td>\n",
       "      <td>$24,570.00</td>\n",
       "      <td>$1,39,230.00</td>\n",
       "      <td>$1,36,500.00</td>\n",
       "      <td>$2,730.00</td>\n",
       "      <td>01/10/2014</td>\n",
       "      <td>10</td>\n",
       "      <td>October</td>\n",
       "      <td>2014</td>\n",
       "    </tr>\n",
       "    <tr>\n",
       "      <th>697</th>\n",
       "      <td>Government</td>\n",
       "      <td>Mexico</td>\n",
       "      <td>Montana</td>\n",
       "      <td>High</td>\n",
       "      <td>$1,368.00</td>\n",
       "      <td>$5.00</td>\n",
       "      <td>$7.00</td>\n",
       "      <td>$9,576.00</td>\n",
       "      <td>$1,436.40</td>\n",
       "      <td>$8,139.60</td>\n",
       "      <td>$6,840.00</td>\n",
       "      <td>$1,299.60</td>\n",
       "      <td>01/02/2014</td>\n",
       "      <td>2</td>\n",
       "      <td>February</td>\n",
       "      <td>2014</td>\n",
       "    </tr>\n",
       "    <tr>\n",
       "      <th>698</th>\n",
       "      <td>Government</td>\n",
       "      <td>Canada</td>\n",
       "      <td>Paseo</td>\n",
       "      <td>High</td>\n",
       "      <td>$723.00</td>\n",
       "      <td>$10.00</td>\n",
       "      <td>$7.00</td>\n",
       "      <td>$5,061.00</td>\n",
       "      <td>$759.15</td>\n",
       "      <td>$4,301.85</td>\n",
       "      <td>$3,615.00</td>\n",
       "      <td>$686.85</td>\n",
       "      <td>01/04/2014</td>\n",
       "      <td>4</td>\n",
       "      <td>April</td>\n",
       "      <td>2014</td>\n",
       "    </tr>\n",
       "    <tr>\n",
       "      <th>699</th>\n",
       "      <td>Channel Partners</td>\n",
       "      <td>United States of America</td>\n",
       "      <td>VTT</td>\n",
       "      <td>High</td>\n",
       "      <td>$1,806.00</td>\n",
       "      <td>$250.00</td>\n",
       "      <td>$12.00</td>\n",
       "      <td>$21,672.00</td>\n",
       "      <td>$3,250.80</td>\n",
       "      <td>$18,421.20</td>\n",
       "      <td>$5,418.00</td>\n",
       "      <td>$13,003.20</td>\n",
       "      <td>01/05/2014</td>\n",
       "      <td>5</td>\n",
       "      <td>May</td>\n",
       "      <td>2014</td>\n",
       "    </tr>\n",
       "  </tbody>\n",
       "</table>\n",
       "</div>"
      ],
      "text/plain": [
       "              Segment                   Country    Product   Discount Band   \\\n",
       "695    Small Business                    France   Amarilla            High    \n",
       "696    Small Business                    Mexico   Amarilla            High    \n",
       "697        Government                    Mexico    Montana            High    \n",
       "698        Government                    Canada      Paseo            High    \n",
       "699  Channel Partners  United States of America        VTT            High    \n",
       "\n",
       "     Units Sold   Manufacturing Price   Sale Price     Gross Sales   \\\n",
       "695   $2,475.00               $260.00      $300.00    $7,42,500.00    \n",
       "696     $546.00               $260.00      $300.00    $1,63,800.00    \n",
       "697   $1,368.00                 $5.00        $7.00       $9,576.00    \n",
       "698     $723.00                $10.00        $7.00       $5,061.00    \n",
       "699   $1,806.00               $250.00       $12.00      $21,672.00    \n",
       "\n",
       "         Discounts           Sales            COGS        Profit         Date  \\\n",
       "695   $1,11,375.00    $6,31,125.00    $6,18,750.00    $12,375.00   01/03/2014   \n",
       "696     $24,570.00    $1,39,230.00    $1,36,500.00     $2,730.00   01/10/2014   \n",
       "697      $1,436.40       $8,139.60       $6,840.00     $1,299.60   01/02/2014   \n",
       "698        $759.15       $4,301.85       $3,615.00       $686.85   01/04/2014   \n",
       "699      $3,250.80      $18,421.20       $5,418.00    $13,003.20   01/05/2014   \n",
       "\n",
       "     Month Number  Month Name   Year  \n",
       "695             3       March   2014  \n",
       "696            10     October   2014  \n",
       "697             2    February   2014  \n",
       "698             4       April   2014  \n",
       "699             5         May   2014  "
      ]
     },
     "execution_count": 5,
     "metadata": {},
     "output_type": "execute_result"
    }
   ],
   "source": [
    "df.tail()"
   ]
  },
  {
   "cell_type": "code",
   "execution_count": 7,
   "id": "e41f1e0d",
   "metadata": {},
   "outputs": [
    {
     "data": {
      "text/plain": [
       "Segment                  0\n",
       "Country                  0\n",
       " Product                 0\n",
       " Discount Band           0\n",
       " Units Sold              0\n",
       " Manufacturing Price     0\n",
       " Sale Price              0\n",
       " Gross Sales             0\n",
       " Discounts               0\n",
       "  Sales                  0\n",
       " COGS                    0\n",
       " Profit                  0\n",
       "Date                     0\n",
       "Month Number             0\n",
       " Month Name              0\n",
       "Year                     0\n",
       "dtype: int64"
      ]
     },
     "execution_count": 7,
     "metadata": {},
     "output_type": "execute_result"
    }
   ],
   "source": [
    "df.isnull().sum()"
   ]
  },
  {
   "cell_type": "markdown",
   "id": "dfd2c06e",
   "metadata": {},
   "source": [
    "- There is no null values in dataset but we can see that there is a error in column names"
   ]
  },
  {
   "cell_type": "code",
   "execution_count": 99,
   "id": "0752a550",
   "metadata": {},
   "outputs": [],
   "source": [
    "# for removing whitespaces we use strip function\n",
    "df.columns = df.columns.str.strip()"
   ]
  },
  {
   "cell_type": "code",
   "execution_count": 11,
   "id": "75854818",
   "metadata": {},
   "outputs": [
    {
     "data": {
      "text/plain": [
       "Segment                0\n",
       "Country                0\n",
       "Product                0\n",
       "Discount Band          0\n",
       "Units Sold             0\n",
       "Manufacturing Price    0\n",
       "Sale Price             0\n",
       "Gross Sales            0\n",
       "Discounts              0\n",
       "Sales                  0\n",
       "COGS                   0\n",
       "Profit                 0\n",
       "Date                   0\n",
       "Month Number           0\n",
       "Month Name             0\n",
       "Year                   0\n",
       "dtype: int64"
      ]
     },
     "execution_count": 11,
     "metadata": {},
     "output_type": "execute_result"
    }
   ],
   "source": [
    "df.isnull().sum()"
   ]
  },
  {
   "cell_type": "code",
   "execution_count": 13,
   "id": "91748c17",
   "metadata": {},
   "outputs": [
    {
     "data": {
      "text/plain": [
       "Segment                object\n",
       "Country                object\n",
       "Product                object\n",
       "Discount Band          object\n",
       "Units Sold             object\n",
       "Manufacturing Price    object\n",
       "Sale Price             object\n",
       "Gross Sales            object\n",
       "Discounts              object\n",
       "Sales                  object\n",
       "COGS                   object\n",
       "Profit                 object\n",
       "Date                   object\n",
       "Month Number            int64\n",
       "Month Name             object\n",
       "Year                    int64\n",
       "dtype: object"
      ]
     },
     "execution_count": 13,
     "metadata": {},
     "output_type": "execute_result"
    }
   ],
   "source": [
    "df.dtypes"
   ]
  },
  {
   "cell_type": "markdown",
   "id": "d235826a",
   "metadata": {},
   "source": [
    "- column like sold unit has integer value but due todollar sign it is consider as object data type so we have to remove dollor sign and convert into int datat type"
   ]
  },
  {
   "cell_type": "code",
   "execution_count": 18,
   "id": "69685e03",
   "metadata": {},
   "outputs": [],
   "source": [
    "dollar = ['Units Sold','Manufacturing Price','Sale Price','Gross Sales','Discounts','Sales','COGS','Profit']\n",
    "for columns in dollar:\n",
    "    df[columns]=df[columns].str.replace('$','',regex = True)"
   ]
  },
  {
   "cell_type": "code",
   "execution_count": 19,
   "id": "e29e6005",
   "metadata": {},
   "outputs": [
    {
     "data": {
      "text/html": [
       "<div>\n",
       "<style scoped>\n",
       "    .dataframe tbody tr th:only-of-type {\n",
       "        vertical-align: middle;\n",
       "    }\n",
       "\n",
       "    .dataframe tbody tr th {\n",
       "        vertical-align: top;\n",
       "    }\n",
       "\n",
       "    .dataframe thead th {\n",
       "        text-align: right;\n",
       "    }\n",
       "</style>\n",
       "<table border=\"1\" class=\"dataframe\">\n",
       "  <thead>\n",
       "    <tr style=\"text-align: right;\">\n",
       "      <th></th>\n",
       "      <th>Segment</th>\n",
       "      <th>Country</th>\n",
       "      <th>Product</th>\n",
       "      <th>Discount Band</th>\n",
       "      <th>Units Sold</th>\n",
       "      <th>Manufacturing Price</th>\n",
       "      <th>Sale Price</th>\n",
       "      <th>Gross Sales</th>\n",
       "      <th>Discounts</th>\n",
       "      <th>Sales</th>\n",
       "      <th>COGS</th>\n",
       "      <th>Profit</th>\n",
       "      <th>Date</th>\n",
       "      <th>Month Number</th>\n",
       "      <th>Month Name</th>\n",
       "      <th>Year</th>\n",
       "    </tr>\n",
       "  </thead>\n",
       "  <tbody>\n",
       "    <tr>\n",
       "      <th>0</th>\n",
       "      <td>Government</td>\n",
       "      <td>Canada</td>\n",
       "      <td>Carretera</td>\n",
       "      <td>None</td>\n",
       "      <td>1,618.50</td>\n",
       "      <td>3.00</td>\n",
       "      <td>20.00</td>\n",
       "      <td>32,370.00</td>\n",
       "      <td>-</td>\n",
       "      <td>32,370.00</td>\n",
       "      <td>16,185.00</td>\n",
       "      <td>16,185.00</td>\n",
       "      <td>01/01/2014</td>\n",
       "      <td>1</td>\n",
       "      <td>January</td>\n",
       "      <td>2014</td>\n",
       "    </tr>\n",
       "    <tr>\n",
       "      <th>1</th>\n",
       "      <td>Government</td>\n",
       "      <td>Germany</td>\n",
       "      <td>Carretera</td>\n",
       "      <td>None</td>\n",
       "      <td>1,321.00</td>\n",
       "      <td>3.00</td>\n",
       "      <td>20.00</td>\n",
       "      <td>26,420.00</td>\n",
       "      <td>-</td>\n",
       "      <td>26,420.00</td>\n",
       "      <td>13,210.00</td>\n",
       "      <td>13,210.00</td>\n",
       "      <td>01/01/2014</td>\n",
       "      <td>1</td>\n",
       "      <td>January</td>\n",
       "      <td>2014</td>\n",
       "    </tr>\n",
       "    <tr>\n",
       "      <th>2</th>\n",
       "      <td>Midmarket</td>\n",
       "      <td>France</td>\n",
       "      <td>Carretera</td>\n",
       "      <td>None</td>\n",
       "      <td>2,178.00</td>\n",
       "      <td>3.00</td>\n",
       "      <td>15.00</td>\n",
       "      <td>32,670.00</td>\n",
       "      <td>-</td>\n",
       "      <td>32,670.00</td>\n",
       "      <td>21,780.00</td>\n",
       "      <td>10,890.00</td>\n",
       "      <td>01/06/2014</td>\n",
       "      <td>6</td>\n",
       "      <td>June</td>\n",
       "      <td>2014</td>\n",
       "    </tr>\n",
       "    <tr>\n",
       "      <th>3</th>\n",
       "      <td>Midmarket</td>\n",
       "      <td>Germany</td>\n",
       "      <td>Carretera</td>\n",
       "      <td>None</td>\n",
       "      <td>888.00</td>\n",
       "      <td>3.00</td>\n",
       "      <td>15.00</td>\n",
       "      <td>13,320.00</td>\n",
       "      <td>-</td>\n",
       "      <td>13,320.00</td>\n",
       "      <td>8,880.00</td>\n",
       "      <td>4,440.00</td>\n",
       "      <td>01/06/2014</td>\n",
       "      <td>6</td>\n",
       "      <td>June</td>\n",
       "      <td>2014</td>\n",
       "    </tr>\n",
       "    <tr>\n",
       "      <th>4</th>\n",
       "      <td>Midmarket</td>\n",
       "      <td>Mexico</td>\n",
       "      <td>Carretera</td>\n",
       "      <td>None</td>\n",
       "      <td>2,470.00</td>\n",
       "      <td>3.00</td>\n",
       "      <td>15.00</td>\n",
       "      <td>37,050.00</td>\n",
       "      <td>-</td>\n",
       "      <td>37,050.00</td>\n",
       "      <td>24,700.00</td>\n",
       "      <td>12,350.00</td>\n",
       "      <td>01/06/2014</td>\n",
       "      <td>6</td>\n",
       "      <td>June</td>\n",
       "      <td>2014</td>\n",
       "    </tr>\n",
       "  </tbody>\n",
       "</table>\n",
       "</div>"
      ],
      "text/plain": [
       "      Segment  Country      Product Discount Band  Units Sold  \\\n",
       "0  Government   Canada   Carretera          None    1,618.50    \n",
       "1  Government  Germany   Carretera          None    1,321.00    \n",
       "2   Midmarket   France   Carretera          None    2,178.00    \n",
       "3   Midmarket  Germany   Carretera          None      888.00    \n",
       "4   Midmarket   Mexico   Carretera          None    2,470.00    \n",
       "\n",
       "  Manufacturing Price Sale Price  Gross Sales Discounts        Sales  \\\n",
       "0               3.00      20.00    32,370.00       -      32,370.00    \n",
       "1               3.00      20.00    26,420.00       -      26,420.00    \n",
       "2               3.00      15.00    32,670.00       -      32,670.00    \n",
       "3               3.00      15.00    13,320.00       -      13,320.00    \n",
       "4               3.00      15.00    37,050.00       -      37,050.00    \n",
       "\n",
       "          COGS       Profit        Date  Month Number Month Name  Year  \n",
       "0   16,185.00    16,185.00   01/01/2014             1   January   2014  \n",
       "1   13,210.00    13,210.00   01/01/2014             1   January   2014  \n",
       "2   21,780.00    10,890.00   01/06/2014             6      June   2014  \n",
       "3    8,880.00     4,440.00   01/06/2014             6      June   2014  \n",
       "4   24,700.00    12,350.00   01/06/2014             6      June   2014  "
      ]
     },
     "execution_count": 19,
     "metadata": {},
     "output_type": "execute_result"
    }
   ],
   "source": [
    "df.head()"
   ]
  },
  {
   "cell_type": "code",
   "execution_count": 20,
   "id": "e4545d39",
   "metadata": {},
   "outputs": [],
   "source": [
    "df['Discounts']=df['Discounts'].replace('-','0',regex=True)"
   ]
  },
  {
   "cell_type": "code",
   "execution_count": 21,
   "id": "b0742a98",
   "metadata": {},
   "outputs": [
    {
     "data": {
      "text/html": [
       "<div>\n",
       "<style scoped>\n",
       "    .dataframe tbody tr th:only-of-type {\n",
       "        vertical-align: middle;\n",
       "    }\n",
       "\n",
       "    .dataframe tbody tr th {\n",
       "        vertical-align: top;\n",
       "    }\n",
       "\n",
       "    .dataframe thead th {\n",
       "        text-align: right;\n",
       "    }\n",
       "</style>\n",
       "<table border=\"1\" class=\"dataframe\">\n",
       "  <thead>\n",
       "    <tr style=\"text-align: right;\">\n",
       "      <th></th>\n",
       "      <th>Segment</th>\n",
       "      <th>Country</th>\n",
       "      <th>Product</th>\n",
       "      <th>Discount Band</th>\n",
       "      <th>Units Sold</th>\n",
       "      <th>Manufacturing Price</th>\n",
       "      <th>Sale Price</th>\n",
       "      <th>Gross Sales</th>\n",
       "      <th>Discounts</th>\n",
       "      <th>Sales</th>\n",
       "      <th>COGS</th>\n",
       "      <th>Profit</th>\n",
       "      <th>Date</th>\n",
       "      <th>Month Number</th>\n",
       "      <th>Month Name</th>\n",
       "      <th>Year</th>\n",
       "    </tr>\n",
       "  </thead>\n",
       "  <tbody>\n",
       "    <tr>\n",
       "      <th>0</th>\n",
       "      <td>Government</td>\n",
       "      <td>Canada</td>\n",
       "      <td>Carretera</td>\n",
       "      <td>None</td>\n",
       "      <td>1,618.50</td>\n",
       "      <td>3.00</td>\n",
       "      <td>20.00</td>\n",
       "      <td>32,370.00</td>\n",
       "      <td>0</td>\n",
       "      <td>32,370.00</td>\n",
       "      <td>16,185.00</td>\n",
       "      <td>16,185.00</td>\n",
       "      <td>01/01/2014</td>\n",
       "      <td>1</td>\n",
       "      <td>January</td>\n",
       "      <td>2014</td>\n",
       "    </tr>\n",
       "    <tr>\n",
       "      <th>1</th>\n",
       "      <td>Government</td>\n",
       "      <td>Germany</td>\n",
       "      <td>Carretera</td>\n",
       "      <td>None</td>\n",
       "      <td>1,321.00</td>\n",
       "      <td>3.00</td>\n",
       "      <td>20.00</td>\n",
       "      <td>26,420.00</td>\n",
       "      <td>0</td>\n",
       "      <td>26,420.00</td>\n",
       "      <td>13,210.00</td>\n",
       "      <td>13,210.00</td>\n",
       "      <td>01/01/2014</td>\n",
       "      <td>1</td>\n",
       "      <td>January</td>\n",
       "      <td>2014</td>\n",
       "    </tr>\n",
       "    <tr>\n",
       "      <th>2</th>\n",
       "      <td>Midmarket</td>\n",
       "      <td>France</td>\n",
       "      <td>Carretera</td>\n",
       "      <td>None</td>\n",
       "      <td>2,178.00</td>\n",
       "      <td>3.00</td>\n",
       "      <td>15.00</td>\n",
       "      <td>32,670.00</td>\n",
       "      <td>0</td>\n",
       "      <td>32,670.00</td>\n",
       "      <td>21,780.00</td>\n",
       "      <td>10,890.00</td>\n",
       "      <td>01/06/2014</td>\n",
       "      <td>6</td>\n",
       "      <td>June</td>\n",
       "      <td>2014</td>\n",
       "    </tr>\n",
       "    <tr>\n",
       "      <th>3</th>\n",
       "      <td>Midmarket</td>\n",
       "      <td>Germany</td>\n",
       "      <td>Carretera</td>\n",
       "      <td>None</td>\n",
       "      <td>888.00</td>\n",
       "      <td>3.00</td>\n",
       "      <td>15.00</td>\n",
       "      <td>13,320.00</td>\n",
       "      <td>0</td>\n",
       "      <td>13,320.00</td>\n",
       "      <td>8,880.00</td>\n",
       "      <td>4,440.00</td>\n",
       "      <td>01/06/2014</td>\n",
       "      <td>6</td>\n",
       "      <td>June</td>\n",
       "      <td>2014</td>\n",
       "    </tr>\n",
       "    <tr>\n",
       "      <th>4</th>\n",
       "      <td>Midmarket</td>\n",
       "      <td>Mexico</td>\n",
       "      <td>Carretera</td>\n",
       "      <td>None</td>\n",
       "      <td>2,470.00</td>\n",
       "      <td>3.00</td>\n",
       "      <td>15.00</td>\n",
       "      <td>37,050.00</td>\n",
       "      <td>0</td>\n",
       "      <td>37,050.00</td>\n",
       "      <td>24,700.00</td>\n",
       "      <td>12,350.00</td>\n",
       "      <td>01/06/2014</td>\n",
       "      <td>6</td>\n",
       "      <td>June</td>\n",
       "      <td>2014</td>\n",
       "    </tr>\n",
       "  </tbody>\n",
       "</table>\n",
       "</div>"
      ],
      "text/plain": [
       "      Segment  Country      Product Discount Band  Units Sold  \\\n",
       "0  Government   Canada   Carretera          None    1,618.50    \n",
       "1  Government  Germany   Carretera          None    1,321.00    \n",
       "2   Midmarket   France   Carretera          None    2,178.00    \n",
       "3   Midmarket  Germany   Carretera          None      888.00    \n",
       "4   Midmarket   Mexico   Carretera          None    2,470.00    \n",
       "\n",
       "  Manufacturing Price Sale Price  Gross Sales Discounts        Sales  \\\n",
       "0               3.00      20.00    32,370.00       0      32,370.00    \n",
       "1               3.00      20.00    26,420.00       0      26,420.00    \n",
       "2               3.00      15.00    32,670.00       0      32,670.00    \n",
       "3               3.00      15.00    13,320.00       0      13,320.00    \n",
       "4               3.00      15.00    37,050.00       0      37,050.00    \n",
       "\n",
       "          COGS       Profit        Date  Month Number Month Name  Year  \n",
       "0   16,185.00    16,185.00   01/01/2014             1   January   2014  \n",
       "1   13,210.00    13,210.00   01/01/2014             1   January   2014  \n",
       "2   21,780.00    10,890.00   01/06/2014             6      June   2014  \n",
       "3    8,880.00     4,440.00   01/06/2014             6      June   2014  \n",
       "4   24,700.00    12,350.00   01/06/2014             6      June   2014  "
      ]
     },
     "execution_count": 21,
     "metadata": {},
     "output_type": "execute_result"
    }
   ],
   "source": [
    "df.head()"
   ]
  },
  {
   "cell_type": "code",
   "execution_count": 22,
   "id": "1c72e886",
   "metadata": {},
   "outputs": [],
   "source": [
    "# For converting the object data type to float we can usev  astype function\n",
    "for columns in dollar:\n",
    "    df[columns]=df[columns].replace(',','',regex=True)"
   ]
  },
  {
   "cell_type": "code",
   "execution_count": 24,
   "id": "75e8fe83",
   "metadata": {},
   "outputs": [
    {
     "data": {
      "text/plain": [
       "Segment                object\n",
       "Country                object\n",
       "Product                object\n",
       "Discount Band          object\n",
       "Units Sold             object\n",
       "Manufacturing Price    object\n",
       "Sale Price             object\n",
       "Gross Sales            object\n",
       "Discounts              object\n",
       "Sales                  object\n",
       "COGS                   object\n",
       "Profit                 object\n",
       "Date                   object\n",
       "Month Number            int64\n",
       "Month Name             object\n",
       "Year                    int64\n",
       "dtype: object"
      ]
     },
     "execution_count": 24,
     "metadata": {},
     "output_type": "execute_result"
    }
   ],
   "source": [
    "df.dtypes"
   ]
  },
  {
   "cell_type": "code",
   "execution_count": 29,
   "id": "595e094c",
   "metadata": {},
   "outputs": [],
   "source": [
    "df['Units Sold'] = df['Units Sold'].astype(float)\n",
    "df['Manufacturing Price']= df['Manufacturing Price'].astype(float)\n",
    "df['Sale Price']= df['Sale Price'].astype(float)\n",
    "df['Gross Sales']= df['Gross Sales'].astype(float)\n",
    "df['Discounts']= df['Discounts'].astype(float)\n",
    "df['Sales']= df['Sales'].astype(float)\n",
    "df['COGS']= df['COGS'].astype(float)"
   ]
  },
  {
   "cell_type": "code",
   "execution_count": 31,
   "id": "85c29058",
   "metadata": {},
   "outputs": [
    {
     "data": {
      "text/plain": [
       "Segment                 object\n",
       "Country                 object\n",
       "Product                 object\n",
       "Discount Band           object\n",
       "Units Sold             float64\n",
       "Manufacturing Price    float64\n",
       "Sale Price             float64\n",
       "Gross Sales            float64\n",
       "Discounts              float64\n",
       "Sales                  float64\n",
       "COGS                   float64\n",
       "Profit                  object\n",
       "Date                    object\n",
       "Month Number             int64\n",
       "Month Name              object\n",
       "Year                     int64\n",
       "dtype: object"
      ]
     },
     "execution_count": 31,
     "metadata": {},
     "output_type": "execute_result"
    }
   ],
   "source": [
    "df.dtypes"
   ]
  },
  {
   "cell_type": "code",
   "execution_count": 41,
   "id": "e64020cc",
   "metadata": {},
   "outputs": [
    {
     "data": {
      "text/plain": [
       "5"
      ]
     },
     "execution_count": 41,
     "metadata": {},
     "output_type": "execute_result"
    }
   ],
   "source": [
    "(df['Profit']==' -   ').sum()"
   ]
  },
  {
   "cell_type": "code",
   "execution_count": 42,
   "id": "499b90c3",
   "metadata": {},
   "outputs": [],
   "source": [
    "df = df[df['Profit'] != ' -   ']"
   ]
  },
  {
   "cell_type": "code",
   "execution_count": 43,
   "id": "3e17729f",
   "metadata": {},
   "outputs": [
    {
     "name": "stderr",
     "output_type": "stream",
     "text": [
      "<ipython-input-43-a1cb31aec4b3>:1: SettingWithCopyWarning: \n",
      "A value is trying to be set on a copy of a slice from a DataFrame.\n",
      "Try using .loc[row_indexer,col_indexer] = value instead\n",
      "\n",
      "See the caveats in the documentation: https://pandas.pydata.org/pandas-docs/stable/user_guide/indexing.html#returning-a-view-versus-a-copy\n",
      "  df['Profit']=df['Profit'].str.strip()\n"
     ]
    }
   ],
   "source": [
    "df['Profit']=df['Profit'].str.strip()"
   ]
  },
  {
   "cell_type": "code",
   "execution_count": 44,
   "id": "f7ffb203",
   "metadata": {},
   "outputs": [
    {
     "name": "stderr",
     "output_type": "stream",
     "text": [
      "<ipython-input-44-0fde865ca74f>:1: SettingWithCopyWarning: \n",
      "A value is trying to be set on a copy of a slice from a DataFrame.\n",
      "Try using .loc[row_indexer,col_indexer] = value instead\n",
      "\n",
      "See the caveats in the documentation: https://pandas.pydata.org/pandas-docs/stable/user_guide/indexing.html#returning-a-view-versus-a-copy\n",
      "  df['Profit']=df['Profit'].replace(r'[()]','',regex = True)\n"
     ]
    }
   ],
   "source": [
    "df['Profit']=df['Profit'].replace(r'[()]','',regex = True)"
   ]
  },
  {
   "cell_type": "code",
   "execution_count": 45,
   "id": "e75aba2b",
   "metadata": {},
   "outputs": [
    {
     "name": "stderr",
     "output_type": "stream",
     "text": [
      "<ipython-input-45-b86eb6c78d21>:1: SettingWithCopyWarning: \n",
      "A value is trying to be set on a copy of a slice from a DataFrame.\n",
      "Try using .loc[row_indexer,col_indexer] = value instead\n",
      "\n",
      "See the caveats in the documentation: https://pandas.pydata.org/pandas-docs/stable/user_guide/indexing.html#returning-a-view-versus-a-copy\n",
      "  df['Profit']= df['Profit'].astype(float)\n"
     ]
    }
   ],
   "source": [
    "df['Profit']= df['Profit'].astype(float)"
   ]
  },
  {
   "cell_type": "code",
   "execution_count": 46,
   "id": "c2d11ec6",
   "metadata": {},
   "outputs": [
    {
     "data": {
      "text/plain": [
       "Segment                 object\n",
       "Country                 object\n",
       "Product                 object\n",
       "Discount Band           object\n",
       "Units Sold             float64\n",
       "Manufacturing Price    float64\n",
       "Sale Price             float64\n",
       "Gross Sales            float64\n",
       "Discounts              float64\n",
       "Sales                  float64\n",
       "COGS                   float64\n",
       "Profit                 float64\n",
       "Date                    object\n",
       "Month Number             int64\n",
       "Month Name              object\n",
       "Year                     int64\n",
       "dtype: object"
      ]
     },
     "execution_count": 46,
     "metadata": {},
     "output_type": "execute_result"
    }
   ],
   "source": [
    "df.dtypes"
   ]
  },
  {
   "cell_type": "code",
   "execution_count": 47,
   "id": "4d4be363",
   "metadata": {},
   "outputs": [
    {
     "name": "stderr",
     "output_type": "stream",
     "text": [
      "<ipython-input-47-182e23b44254>:1: SettingWithCopyWarning: \n",
      "A value is trying to be set on a copy of a slice from a DataFrame.\n",
      "Try using .loc[row_indexer,col_indexer] = value instead\n",
      "\n",
      "See the caveats in the documentation: https://pandas.pydata.org/pandas-docs/stable/user_guide/indexing.html#returning-a-view-versus-a-copy\n",
      "  df['Date']=pd.to_datetime(df['Date'])\n"
     ]
    }
   ],
   "source": [
    "df['Date']=pd.to_datetime(df['Date'])"
   ]
  },
  {
   "cell_type": "code",
   "execution_count": 48,
   "id": "57eb5920",
   "metadata": {},
   "outputs": [
    {
     "data": {
      "text/plain": [
       "Segment                        object\n",
       "Country                        object\n",
       "Product                        object\n",
       "Discount Band                  object\n",
       "Units Sold                    float64\n",
       "Manufacturing Price           float64\n",
       "Sale Price                    float64\n",
       "Gross Sales                   float64\n",
       "Discounts                     float64\n",
       "Sales                         float64\n",
       "COGS                          float64\n",
       "Profit                        float64\n",
       "Date                   datetime64[ns]\n",
       "Month Number                    int64\n",
       "Month Name                     object\n",
       "Year                            int64\n",
       "dtype: object"
      ]
     },
     "execution_count": 48,
     "metadata": {},
     "output_type": "execute_result"
    }
   ],
   "source": [
    "df.dtypes"
   ]
  },
  {
   "cell_type": "code",
   "execution_count": 49,
   "id": "d6d77aa7",
   "metadata": {},
   "outputs": [],
   "source": [
    "df=df.drop(['Month Number', 'Month Name', 'Year'], axis=1)"
   ]
  },
  {
   "cell_type": "code",
   "execution_count": 50,
   "id": "8dcc7571",
   "metadata": {},
   "outputs": [
    {
     "data": {
      "text/plain": [
       "Segment                        object\n",
       "Country                        object\n",
       "Product                        object\n",
       "Discount Band                  object\n",
       "Units Sold                    float64\n",
       "Manufacturing Price           float64\n",
       "Sale Price                    float64\n",
       "Gross Sales                   float64\n",
       "Discounts                     float64\n",
       "Sales                         float64\n",
       "COGS                          float64\n",
       "Profit                        float64\n",
       "Date                   datetime64[ns]\n",
       "dtype: object"
      ]
     },
     "execution_count": 50,
     "metadata": {},
     "output_type": "execute_result"
    }
   ],
   "source": [
    "df.dtypes"
   ]
  },
  {
   "cell_type": "code",
   "execution_count": 51,
   "id": "ce009836",
   "metadata": {},
   "outputs": [
    {
     "data": {
      "text/html": [
       "<div>\n",
       "<style scoped>\n",
       "    .dataframe tbody tr th:only-of-type {\n",
       "        vertical-align: middle;\n",
       "    }\n",
       "\n",
       "    .dataframe tbody tr th {\n",
       "        vertical-align: top;\n",
       "    }\n",
       "\n",
       "    .dataframe thead th {\n",
       "        text-align: right;\n",
       "    }\n",
       "</style>\n",
       "<table border=\"1\" class=\"dataframe\">\n",
       "  <thead>\n",
       "    <tr style=\"text-align: right;\">\n",
       "      <th></th>\n",
       "      <th>Segment</th>\n",
       "      <th>Country</th>\n",
       "      <th>Product</th>\n",
       "      <th>Discount Band</th>\n",
       "      <th>Units Sold</th>\n",
       "      <th>Manufacturing Price</th>\n",
       "      <th>Sale Price</th>\n",
       "      <th>Gross Sales</th>\n",
       "      <th>Discounts</th>\n",
       "      <th>Sales</th>\n",
       "      <th>COGS</th>\n",
       "      <th>Profit</th>\n",
       "      <th>Date</th>\n",
       "    </tr>\n",
       "  </thead>\n",
       "  <tbody>\n",
       "    <tr>\n",
       "      <th>0</th>\n",
       "      <td>Government</td>\n",
       "      <td>Canada</td>\n",
       "      <td>Carretera</td>\n",
       "      <td>None</td>\n",
       "      <td>1618.5</td>\n",
       "      <td>3.0</td>\n",
       "      <td>20.0</td>\n",
       "      <td>32370.0</td>\n",
       "      <td>0.0</td>\n",
       "      <td>32370.0</td>\n",
       "      <td>16185.0</td>\n",
       "      <td>16185.0</td>\n",
       "      <td>2014-01-01</td>\n",
       "    </tr>\n",
       "    <tr>\n",
       "      <th>1</th>\n",
       "      <td>Government</td>\n",
       "      <td>Germany</td>\n",
       "      <td>Carretera</td>\n",
       "      <td>None</td>\n",
       "      <td>1321.0</td>\n",
       "      <td>3.0</td>\n",
       "      <td>20.0</td>\n",
       "      <td>26420.0</td>\n",
       "      <td>0.0</td>\n",
       "      <td>26420.0</td>\n",
       "      <td>13210.0</td>\n",
       "      <td>13210.0</td>\n",
       "      <td>2014-01-01</td>\n",
       "    </tr>\n",
       "    <tr>\n",
       "      <th>2</th>\n",
       "      <td>Midmarket</td>\n",
       "      <td>France</td>\n",
       "      <td>Carretera</td>\n",
       "      <td>None</td>\n",
       "      <td>2178.0</td>\n",
       "      <td>3.0</td>\n",
       "      <td>15.0</td>\n",
       "      <td>32670.0</td>\n",
       "      <td>0.0</td>\n",
       "      <td>32670.0</td>\n",
       "      <td>21780.0</td>\n",
       "      <td>10890.0</td>\n",
       "      <td>2014-01-06</td>\n",
       "    </tr>\n",
       "    <tr>\n",
       "      <th>3</th>\n",
       "      <td>Midmarket</td>\n",
       "      <td>Germany</td>\n",
       "      <td>Carretera</td>\n",
       "      <td>None</td>\n",
       "      <td>888.0</td>\n",
       "      <td>3.0</td>\n",
       "      <td>15.0</td>\n",
       "      <td>13320.0</td>\n",
       "      <td>0.0</td>\n",
       "      <td>13320.0</td>\n",
       "      <td>8880.0</td>\n",
       "      <td>4440.0</td>\n",
       "      <td>2014-01-06</td>\n",
       "    </tr>\n",
       "    <tr>\n",
       "      <th>4</th>\n",
       "      <td>Midmarket</td>\n",
       "      <td>Mexico</td>\n",
       "      <td>Carretera</td>\n",
       "      <td>None</td>\n",
       "      <td>2470.0</td>\n",
       "      <td>3.0</td>\n",
       "      <td>15.0</td>\n",
       "      <td>37050.0</td>\n",
       "      <td>0.0</td>\n",
       "      <td>37050.0</td>\n",
       "      <td>24700.0</td>\n",
       "      <td>12350.0</td>\n",
       "      <td>2014-01-06</td>\n",
       "    </tr>\n",
       "  </tbody>\n",
       "</table>\n",
       "</div>"
      ],
      "text/plain": [
       "      Segment  Country      Product Discount Band  Units Sold  \\\n",
       "0  Government   Canada   Carretera          None       1618.5   \n",
       "1  Government  Germany   Carretera          None       1321.0   \n",
       "2   Midmarket   France   Carretera          None       2178.0   \n",
       "3   Midmarket  Germany   Carretera          None        888.0   \n",
       "4   Midmarket   Mexico   Carretera          None       2470.0   \n",
       "\n",
       "   Manufacturing Price  Sale Price  Gross Sales  Discounts    Sales     COGS  \\\n",
       "0                  3.0        20.0      32370.0        0.0  32370.0  16185.0   \n",
       "1                  3.0        20.0      26420.0        0.0  26420.0  13210.0   \n",
       "2                  3.0        15.0      32670.0        0.0  32670.0  21780.0   \n",
       "3                  3.0        15.0      13320.0        0.0  13320.0   8880.0   \n",
       "4                  3.0        15.0      37050.0        0.0  37050.0  24700.0   \n",
       "\n",
       "    Profit       Date  \n",
       "0  16185.0 2014-01-01  \n",
       "1  13210.0 2014-01-01  \n",
       "2  10890.0 2014-01-06  \n",
       "3   4440.0 2014-01-06  \n",
       "4  12350.0 2014-01-06  "
      ]
     },
     "execution_count": 51,
     "metadata": {},
     "output_type": "execute_result"
    }
   ],
   "source": [
    "df.head()"
   ]
  },
  {
   "cell_type": "code",
   "execution_count": 53,
   "id": "8a9a3990",
   "metadata": {},
   "outputs": [],
   "source": [
    "# country wise anlysis"
   ]
  },
  {
   "cell_type": "code",
   "execution_count": 57,
   "id": "93415025",
   "metadata": {},
   "outputs": [],
   "source": [
    "group=df.groupby('Country').agg({'Sales':'sum', 'Profit':'sum', 'Units Sold':'sum', 'COGS':'sum'}).reset_index()"
   ]
  },
  {
   "cell_type": "code",
   "execution_count": 58,
   "id": "70c768c6",
   "metadata": {
    "scrolled": true
   },
   "outputs": [
    {
     "data": {
      "text/html": [
       "<div>\n",
       "<style scoped>\n",
       "    .dataframe tbody tr th:only-of-type {\n",
       "        vertical-align: middle;\n",
       "    }\n",
       "\n",
       "    .dataframe tbody tr th {\n",
       "        vertical-align: top;\n",
       "    }\n",
       "\n",
       "    .dataframe thead th {\n",
       "        text-align: right;\n",
       "    }\n",
       "</style>\n",
       "<table border=\"1\" class=\"dataframe\">\n",
       "  <thead>\n",
       "    <tr style=\"text-align: right;\">\n",
       "      <th></th>\n",
       "      <th>Country</th>\n",
       "      <th>Sales</th>\n",
       "      <th>Profit</th>\n",
       "      <th>Units Sold</th>\n",
       "      <th>COGS</th>\n",
       "    </tr>\n",
       "  </thead>\n",
       "  <tbody>\n",
       "    <tr>\n",
       "      <th>0</th>\n",
       "      <td>Canada</td>\n",
       "      <td>24887654.89</td>\n",
       "      <td>3858206.39</td>\n",
       "      <td>247428.5</td>\n",
       "      <td>21358426.0</td>\n",
       "    </tr>\n",
       "    <tr>\n",
       "      <th>1</th>\n",
       "      <td>France</td>\n",
       "      <td>23995612.29</td>\n",
       "      <td>4032488.29</td>\n",
       "      <td>237943.0</td>\n",
       "      <td>20214591.5</td>\n",
       "    </tr>\n",
       "    <tr>\n",
       "      <th>2</th>\n",
       "      <td>Germany</td>\n",
       "      <td>23409940.82</td>\n",
       "      <td>3961381.32</td>\n",
       "      <td>200699.0</td>\n",
       "      <td>19729552.0</td>\n",
       "    </tr>\n",
       "    <tr>\n",
       "      <th>3</th>\n",
       "      <td>Mexico</td>\n",
       "      <td>20547352.11</td>\n",
       "      <td>3198923.11</td>\n",
       "      <td>199975.0</td>\n",
       "      <td>17639829.0</td>\n",
       "    </tr>\n",
       "    <tr>\n",
       "      <th>4</th>\n",
       "      <td>United States of America</td>\n",
       "      <td>25029830.18</td>\n",
       "      <td>3397345.68</td>\n",
       "      <td>232627.5</td>\n",
       "      <td>22034289.5</td>\n",
       "    </tr>\n",
       "  </tbody>\n",
       "</table>\n",
       "</div>"
      ],
      "text/plain": [
       "                    Country        Sales      Profit  Units Sold        COGS\n",
       "0                    Canada  24887654.89  3858206.39    247428.5  21358426.0\n",
       "1                    France  23995612.29  4032488.29    237943.0  20214591.5\n",
       "2                   Germany  23409940.82  3961381.32    200699.0  19729552.0\n",
       "3                    Mexico  20547352.11  3198923.11    199975.0  17639829.0\n",
       "4  United States of America  25029830.18  3397345.68    232627.5  22034289.5"
      ]
     },
     "execution_count": 58,
     "metadata": {},
     "output_type": "execute_result"
    }
   ],
   "source": [
    "group.head(10)"
   ]
  },
  {
   "cell_type": "code",
   "execution_count": 65,
   "id": "de36e040",
   "metadata": {},
   "outputs": [
    {
     "data": {
      "image/png": "[encoded data removed]",
      "text/plain": [
       "<Figure size 720x432 with 1 Axes>"
      ]
     },
     "metadata": {
      "needs_background": "light"
     },
     "output_type": "display_data"
    }
   ],
   "source": [
    "bar_width = 0.25\n",
    "plt.figure(figsize=(10,6))\n",
    "# Calculate the x positions for the bars\n",
    "x = np.arange(len(group['Country']))\n",
    "plt.bar(x-bar_width, group['Sales'], bar_width, label='Sales')\n",
    "\n",
    "plt.xticks(x, group['Country'])\n",
    "plt.legend()\n",
    "plt.show()"
   ]
  },
  {
   "cell_type": "markdown",
   "id": "c8dab419",
   "metadata": {},
   "source": [
    "- We can see that highest sale is noticed in USA and in Canada and lowest sale is recorded in Mexico"
   ]
  },
  {
   "cell_type": "code",
   "execution_count": 67,
   "id": "e259bdf9",
   "metadata": {},
   "outputs": [
    {
     "data": {
      "image/png": "[encoded data removed]",
      "text/plain": [
       "<Figure size 720x432 with 1 Axes>"
      ]
     },
     "metadata": {
      "needs_background": "light"
     },
     "output_type": "display_data"
    }
   ],
   "source": [
    "plt.figure(figsize=(10,6))\n",
    "x = np.arange(len(group['Country']))\n",
    "plt.bar(x-bar_width, group['Sales'], bar_width, label='Sales')\n",
    "plt.bar(x, group['COGS'], bar_width, label='COGS')\n",
    "# plt.bar(x+bar_width, group['Units Sold'], bar_width, label='Units Sold')\n",
    "\n",
    "# plt.xlabel('Country')\n",
    "# plt.ylabel('Values')\n",
    "plt.xticks(x, group['Country'])\n",
    "plt.legend()\n",
    "plt.show()"
   ]
  },
  {
   "cell_type": "markdown",
   "id": "7f93da65",
   "metadata": {},
   "source": [
    "- We can see that Sales is more than the COGS(Cost of Gross Sale) it means company is in profit"
   ]
  },
  {
   "cell_type": "code",
   "execution_count": 69,
   "id": "f0f8b3e3",
   "metadata": {},
   "outputs": [
    {
     "data": {
      "image/png": "[encoded data removed]",
      "text/plain": [
       "<Figure size 720x432 with 1 Axes>"
      ]
     },
     "metadata": {},
     "output_type": "display_data"
    }
   ],
   "source": [
    "plt.figure(figsize=(10,6))\n",
    "\n",
    "plt.pie(group['Profit'], labels=group['Country'], autopct='%1.1f%%', startangle=140)\n",
    "plt.title('Country wise Profit')\n",
    "plt.show()"
   ]
  },
  {
   "cell_type": "markdown",
   "id": "aa7e391f",
   "metadata": {},
   "source": [
    "# Product wise analysis"
   ]
  },
  {
   "cell_type": "code",
   "execution_count": 71,
   "id": "a88d263b",
   "metadata": {},
   "outputs": [],
   "source": [
    "group_product=df.groupby('Product').agg({'Units Sold':'sum', 'Manufacturing Price':'mean', 'Sale Price':'mean', 'Gross Sales':'sum', 'Profit':'sum', 'COGS':'sum'}).reset_index()"
   ]
  },
  {
   "cell_type": "code",
   "execution_count": 72,
   "id": "9092d031",
   "metadata": {},
   "outputs": [],
   "source": [
    "# we can create one more column which contain margin that is selling price minus manufacturing price\n",
    "group_product['Gross Margin']=group_product['Sale Price']-group_product['Manufacturing Price']"
   ]
  },
  {
   "cell_type": "code",
   "execution_count": 73,
   "id": "dc336ee7",
   "metadata": {},
   "outputs": [
    {
     "data": {
      "image/png": "[encoded data removed]",
      "text/plain": [
       "<Figure size 720x432 with 1 Axes>"
      ]
     },
     "metadata": {
      "needs_background": "light"
     },
     "output_type": "display_data"
    }
   ],
   "source": [
    "plt.figure(figsize=(10,6))\n",
    "\n",
    "categories=group_product['Product']\n",
    "margin_values=group_product['Gross Margin']\n",
    "# Create a bar chart\n",
    "plt.bar(categories, margin_values, label='Gross Margin')\n",
    "plt.xticks(group_product['Product'])\n",
    "\n",
    "plt.show()"
   ]
  },
  {
   "cell_type": "markdown",
   "id": "54ef236b",
   "metadata": {},
   "source": [
    "- From above figure we can see that Product 'Amarilla' and product 'VTT' has negative gross margin and product 'Velo' has very low margin"
   ]
  },
  {
   "cell_type": "code",
   "execution_count": 75,
   "id": "d92d4256",
   "metadata": {},
   "outputs": [
    {
     "data": {
      "image/png": "[encoded data removed]",
      "text/plain": [
       "<Figure size 720x432 with 1 Axes>"
      ]
     },
     "metadata": {},
     "output_type": "display_data"
    }
   ],
   "source": [
    "plt.figure(figsize=(10,6))\n",
    "\n",
    "plt.pie(group_product['Profit'], labels=group_product['Product'], autopct='%1.1f%%', startangle=140)\n",
    "plt.title('Product wise Profit')\n",
    "plt.show()"
   ]
  },
  {
   "cell_type": "markdown",
   "id": "ce10a055",
   "metadata": {},
   "source": [
    "- From here we can see that Paseo has highest profit and Montana have low profit"
   ]
  },
  {
   "cell_type": "code",
   "execution_count": 77,
   "id": "d6877f2e",
   "metadata": {},
   "outputs": [
    {
     "data": {
      "image/png": "[encoded data removed]",
      "text/plain": [
       "<Figure size 720x432 with 1 Axes>"
      ]
     },
     "metadata": {
      "needs_background": "light"
     },
     "output_type": "display_data"
    }
   ],
   "source": [
    "plt.figure(figsize=(10,6))\n",
    "x = np.arange(len(group_product['Product']))\n",
    "plt.bar(x-bar_width, group_product['Gross Sales'], bar_width, label='Sales')\n",
    "plt.bar(x, group_product['COGS'], bar_width, label='COGS')\n",
    "# plt.bar(x+bar_width, group['Units Sold'], bar_width, label='Units Sold')\n",
    "\n",
    "# plt.xlabel('Country')\n",
    "# plt.ylabel('Values')\n",
    "plt.xticks(x, group_product['Product'])\n",
    "plt.legend()\n",
    "plt.show()"
   ]
  },
  {
   "cell_type": "markdown",
   "id": "4e9497c9",
   "metadata": {},
   "source": [
    "- Sales of Paseo is much more than other Products and Carretera has the low sales"
   ]
  },
  {
   "cell_type": "code",
   "execution_count": 79,
   "id": "844bda79",
   "metadata": {},
   "outputs": [
    {
     "data": {
      "image/png": "[encoded data removed]",
      "text/plain": [
       "<Figure size 720x432 with 1 Axes>"
      ]
     },
     "metadata": {
      "needs_background": "light"
     },
     "output_type": "display_data"
    }
   ],
   "source": [
    "bar_width = 0.3\n",
    "plt.figure(figsize=(10,6))\n",
    "# Calculate the x positions for the bars\n",
    "x = np.arange(len(group_product['Product']))\n",
    "plt.bar(x-bar_width, group_product['Units Sold'], bar_width, label='Units Sold')\n",
    "\n",
    "plt.xticks(x, group_product['Product'])\n",
    "plt.legend()\n",
    "plt.show()"
   ]
  },
  {
   "cell_type": "markdown",
   "id": "c5733d0b",
   "metadata": {},
   "source": [
    "- From here we can clearly see that Paseo is the product which sells maximum"
   ]
  },
  {
   "cell_type": "markdown",
   "id": "9f35f364",
   "metadata": {},
   "source": [
    "# Sector wise analysis"
   ]
  },
  {
   "cell_type": "code",
   "execution_count": 82,
   "id": "1efa589e",
   "metadata": {},
   "outputs": [],
   "source": [
    "group_segment=df.groupby('Segment').agg({'Units Sold':'sum', 'Gross Sales':'sum', 'Profit':'sum', 'COGS':'sum'}).reset_index()"
   ]
  },
  {
   "cell_type": "code",
   "execution_count": 83,
   "id": "52bd216c",
   "metadata": {},
   "outputs": [
    {
     "data": {
      "image/png": "[encoded data removed]",
      "text/plain": [
       "<Figure size 720x432 with 1 Axes>"
      ]
     },
     "metadata": {},
     "output_type": "display_data"
    }
   ],
   "source": [
    "plt.figure(figsize=(10,6))\n",
    "\n",
    "plt.pie(group_segment['Profit'], labels=group_segment['Segment'], autopct='%1.1f%%', startangle=140)\n",
    "plt.title('Segment wise Profit')\n",
    "plt.show()"
   ]
  },
  {
   "cell_type": "markdown",
   "id": "ea61f9d8",
   "metadata": {},
   "source": [
    "- Goverment segment gives most profit and Midmarket gives least profit"
   ]
  },
  {
   "cell_type": "code",
   "execution_count": 86,
   "id": "f37ec88d",
   "metadata": {},
   "outputs": [
    {
     "data": {
      "image/png": "[encoded data removed]",
      "text/plain": [
       "<Figure size 720x432 with 1 Axes>"
      ]
     },
     "metadata": {
      "needs_background": "light"
     },
     "output_type": "display_data"
    }
   ],
   "source": [
    "plt.figure(figsize=(10,6))\n",
    "x = np.arange(len(group_segment['Segment']))\n",
    "plt.bar(x-bar_width, group_segment['Gross Sales'], bar_width, label='Sales')\n",
    "plt.bar(x, group_segment['COGS'], bar_width, label='COGS')\n",
    "# plt.bar(x+bar_width, group['Units Sold'], bar_width, label='Units Sold')\n",
    "\n",
    "# plt.xlabel('Country')\n",
    "# plt.ylabel('Values')\n",
    "plt.xticks(x, group_segment['Segment'])\n",
    "plt.legend()\n",
    "plt.show()"
   ]
  },
  {
   "cell_type": "markdown",
   "id": "2bf98b0b",
   "metadata": {},
   "source": [
    "- In the Enterprise sector cost of sales and sales is almost same so we can say that margin in that sector could be low and in goverment sector difference between Sales and COGS is more means this sector has more margin"
   ]
  },
  {
   "cell_type": "code",
   "execution_count": 88,
   "id": "b1ede813",
   "metadata": {},
   "outputs": [
    {
     "data": {
      "image/png": "[encoded data removed]",
      "text/plain": [
       "<Figure size 720x432 with 1 Axes>"
      ]
     },
     "metadata": {
      "needs_background": "light"
     },
     "output_type": "display_data"
    }
   ],
   "source": [
    "bar_width = 0.3\n",
    "plt.figure(figsize=(10,6))\n",
    "# Calculate the x positions for the bars\n",
    "x = np.arange(len(group_segment['Segment']))\n",
    "plt.bar(x-bar_width, group_segment['Units Sold'], bar_width, label='Units Sold')\n",
    "\n",
    "plt.xticks(x,group_segment['Segment'])\n",
    "plt.legend()\n",
    "plt.show()"
   ]
  },
  {
   "cell_type": "markdown",
   "id": "cd9216b9",
   "metadata": {},
   "source": [
    "- more units are sold in goverment sector then mid market and least units are sold in small business"
   ]
  },
  {
   "cell_type": "markdown",
   "id": "67b1cadb",
   "metadata": {},
   "source": [
    "# Analysis by time and date"
   ]
  },
  {
   "cell_type": "code",
   "execution_count": 91,
   "id": "2b79eb24",
   "metadata": {},
   "outputs": [
    {
     "data": {
      "text/plain": [
       "Segment                        object\n",
       "Country                        object\n",
       "Product                        object\n",
       "Discount Band                  object\n",
       "Units Sold                    float64\n",
       "Manufacturing Price           float64\n",
       "Sale Price                    float64\n",
       "Gross Sales                   float64\n",
       "Discounts                     float64\n",
       "Sales                         float64\n",
       "COGS                          float64\n",
       "Profit                        float64\n",
       "Date                   datetime64[ns]\n",
       "dtype: object"
      ]
     },
     "execution_count": 91,
     "metadata": {},
     "output_type": "execute_result"
    }
   ],
   "source": [
    "df.dtypes"
   ]
  },
  {
   "cell_type": "code",
   "execution_count": 96,
   "id": "6c7a35ba",
   "metadata": {},
   "outputs": [],
   "source": [
    "import pandas as pd\n",
    "\n",
    "df['Date'] = pd.to_datetime(df['Date'])\n",
    "\n",
    "df.set_index('Date', inplace=True)\n",
    "\n",
    "Yearly_profit = df['Profit'].resample('Y').sum()"
   ]
  },
  {
   "cell_type": "code",
   "execution_count": 97,
   "id": "fac36742",
   "metadata": {},
   "outputs": [
    {
     "data": {
      "text/html": [
       "<div>\n",
       "<style scoped>\n",
       "    .dataframe tbody tr th:only-of-type {\n",
       "        vertical-align: middle;\n",
       "    }\n",
       "\n",
       "    .dataframe tbody tr th {\n",
       "        vertical-align: top;\n",
       "    }\n",
       "\n",
       "    .dataframe thead th {\n",
       "        text-align: right;\n",
       "    }\n",
       "</style>\n",
       "<table border=\"1\" class=\"dataframe\">\n",
       "  <thead>\n",
       "    <tr style=\"text-align: right;\">\n",
       "      <th></th>\n",
       "      <th>Date</th>\n",
       "      <th>Profit</th>\n",
       "    </tr>\n",
       "  </thead>\n",
       "  <tbody>\n",
       "    <tr>\n",
       "      <th>0</th>\n",
       "      <td>2013-12-31</td>\n",
       "      <td>4323139.51</td>\n",
       "    </tr>\n",
       "    <tr>\n",
       "      <th>1</th>\n",
       "      <td>2014-12-31</td>\n",
       "      <td>14125205.28</td>\n",
       "    </tr>\n",
       "  </tbody>\n",
       "</table>\n",
       "</div>"
      ],
      "text/plain": [
       "        Date       Profit\n",
       "0 2013-12-31   4323139.51\n",
       "1 2014-12-31  14125205.28"
      ]
     },
     "execution_count": 97,
     "metadata": {},
     "output_type": "execute_result"
    }
   ],
   "source": [
    "Yearly_profit=Yearly_profit.reset_index()\n",
    "Yearly_profit"
   ]
  },
  {
   "cell_type": "code",
   "execution_count": 98,
   "id": "054c62f6",
   "metadata": {},
   "outputs": [
    {
     "data": {
      "text/plain": [
       "<BarContainer object of 2 artists>"
      ]
     },
     "execution_count": 98,
     "metadata": {},
     "output_type": "execute_result"
    },
    {
     "data": {
      "image/png": "[encoded data removed]",
      "text/plain": [
       "<Figure size 720x360 with 1 Axes>"
      ]
     },
     "metadata": {
      "needs_background": "light"
     },
     "output_type": "display_data"
    }
   ],
   "source": [
    "Yearly_profit['Date'] = pd.to_datetime(Yearly_profit['Date'])\n",
    "\n",
    "plt.figure(figsize=(10, 5))\n",
    "plt.bar(Yearly_profit['Date'].dt.year, Yearly_profit['Profit'], color='blue')"
   ]
  },
  {
   "cell_type": "code",
   "execution_count": null,
   "id": "88b9818e",
   "metadata": {},
   "outputs": [],
   "source": []
  }
 ],
 "metadata": {
  "kernelspec": {
   "display_name": "Python 3",
   "language": "python",
   "name": "python3"
  },
  "language_info": {
   "codemirror_mode": {
    "name": "ipython",
    "version": 3
   },
   "file_extension": ".py",
   "mimetype": "text/x-python",
   "name": "python",
   "nbconvert_exporter": "python",
   "pygments_lexer": "ipython3",
   "version": "3.8.8"
  }
 },
 "nbformat": 4,
 "nbformat_minor": 5
}
